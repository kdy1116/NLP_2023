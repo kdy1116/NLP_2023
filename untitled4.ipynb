{
  "nbformat": 4,
  "nbformat_minor": 0,
  "metadata": {
    "colab": {
      "provenance": [],
      "authorship_tag": "ABX9TyOmg0OyjmAIhLul2GVCVyV+",
      "include_colab_link": true
    },
    "kernelspec": {
      "name": "python3",
      "display_name": "Python 3"
    },
    "language_info": {
      "name": "python"
    }
  },
  "cells": [
    {
      "cell_type": "markdown",
      "metadata": {
        "id": "view-in-github",
        "colab_type": "text"
      },
      "source": [
        "<a href=\"https://colab.research.google.com/github/kdy1116/NLP_2023/blob/main/untitled4.ipynb\" target=\"_parent\"><img src=\"https://colab.research.google.com/assets/colab-badge.svg\" alt=\"Open In Colab\"/></a>"
      ]
    },
    {
      "cell_type": "code",
      "execution_count": null,
      "metadata": {
        "colab": {
          "base_uri": "https://localhost:8080/"
        },
        "id": "eog6X9XLY-7D",
        "outputId": "fd3de10b-bce8-4649-f85a-e52a978235f0"
      },
      "outputs": [
        {
          "output_type": "stream",
          "name": "stdout",
          "text": [
            "안녕하세요\n",
            "2\n"
          ]
        }
      ],
      "source": [
        "print('안녕하세요')\n",
        "a=1\n",
        "b=1\n",
        "print(a+b)"
      ]
    },
    {
      "cell_type": "code",
      "source": [
        "number1=1\n",
        "pi=3.14\n",
        "flag=True\n",
        "char='x'\n",
        "chars='I love python'\n"
      ],
      "metadata": {
        "id": "CINtnjX7ZpVs"
      },
      "execution_count": null,
      "outputs": []
    },
    {
      "cell_type": "code",
      "source": [
        "#주석 처리 에시\n",
        "#만든 날짜: 2023.09.17\n",
        "a=1\n",
        "b=5\n",
        "print(a+b)\n"
      ],
      "metadata": {
        "colab": {
          "base_uri": "https://localhost:8080/"
        },
        "id": "h4liBEicaCvL",
        "outputId": "ce41f931-64ba-407d-98be-366bb422f8ba"
      },
      "execution_count": null,
      "outputs": [
        {
          "output_type": "stream",
          "name": "stdout",
          "text": [
            "6\n"
          ]
        }
      ]
    }
  ]
}