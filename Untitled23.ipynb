{
  "nbformat": 4,
  "nbformat_minor": 0,
  "metadata": {
    "colab": {
      "provenance": [],
      "authorship_tag": "ABX9TyO1mt3PYmz7NVvXuCHSwlC3",
      "include_colab_link": true
    },
    "kernelspec": {
      "name": "python3",
      "display_name": "Python 3"
    },
    "language_info": {
      "name": "python"
    }
  },
  "cells": [
    {
      "cell_type": "markdown",
      "metadata": {
        "id": "view-in-github",
        "colab_type": "text"
      },
      "source": [
        "<a href=\"https://colab.research.google.com/github/kdy1116/NLP_2023/blob/main/Untitled23.ipynb\" target=\"_parent\"><img src=\"https://colab.research.google.com/assets/colab-badge.svg\" alt=\"Open In Colab\"/></a>"
      ]
    },
    {
      "cell_type": "code",
      "execution_count": null,
      "metadata": {
        "id": "nIqGtubIL9-G"
      },
      "outputs": [],
      "source": [
        "import math\n",
        "\n",
        "# 최소 공배수(LCM)를 구하는 함수\n",
        "def lcm(a,b):\n",
        "    return a*b // math.gcd(a,b)\n",
        "\n",
        "\n",
        "a = 21\n",
        "b = 14\n",
        "\n",
        "print(math.gcd(21,14)) #최대 공약수 계산\n",
        "print(lcm(21,14)) #최소 공배수 계산\n",
        " ​"
      ]
    }
  ]
}