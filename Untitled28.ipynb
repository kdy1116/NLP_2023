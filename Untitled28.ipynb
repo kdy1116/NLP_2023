{
  "nbformat": 4,
  "nbformat_minor": 0,
  "metadata": {
    "colab": {
      "provenance": [],
      "authorship_tag": "ABX9TyP7QAKmlUkfPh1mul9iCLam",
      "include_colab_link": true
    },
    "kernelspec": {
      "name": "python3",
      "display_name": "Python 3"
    },
    "language_info": {
      "name": "python"
    }
  },
  "cells": [
    {
      "cell_type": "markdown",
      "metadata": {
        "id": "view-in-github",
        "colab_type": "text"
      },
      "source": [
        "<a href=\"https://colab.research.google.com/github/kdy1116/NLP_2023/blob/main/Untitled28.ipynb\" target=\"_parent\"><img src=\"https://colab.research.google.com/assets/colab-badge.svg\" alt=\"Open In Colab\"/></a>"
      ]
    },
    {
      "cell_type": "code",
      "execution_count": null,
      "metadata": {
        "id": "Go_8uyeSMbVl"
      },
      "outputs": [],
      "source": [
        "s = input(' 문자열을 입력하세요 :')\n",
        "\n",
        "vowels = \" aeiouAEIOU\"\n",
        "\n",
        "result = \"\"\n",
        "\n",
        "for letter in s:\n",
        "\n",
        "if letter not in vowels:\n",
        "\n",
        "result += letter\n",
        "\n",
        "print(result)"
      ]
    }
  ]
}