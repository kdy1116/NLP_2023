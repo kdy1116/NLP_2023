{
  "nbformat": 4,
  "nbformat_minor": 0,
  "metadata": {
    "colab": {
      "provenance": [],
      "authorship_tag": "ABX9TyNz4IxYdfTg48ckwQM5kcEM",
      "include_colab_link": true
    },
    "kernelspec": {
      "name": "python3",
      "display_name": "Python 3"
    },
    "language_info": {
      "name": "python"
    }
  },
  "cells": [
    {
      "cell_type": "markdown",
      "metadata": {
        "id": "view-in-github",
        "colab_type": "text"
      },
      "source": [
        "<a href=\"https://colab.research.google.com/github/kdy1116/NLP_2023/blob/main/Untitled29.ipynb\" target=\"_parent\"><img src=\"https://colab.research.google.com/assets/colab-badge.svg\" alt=\"Open In Colab\"/></a>"
      ]
    },
    {
      "cell_type": "code",
      "execution_count": 1,
      "metadata": {
        "colab": {
          "base_uri": "https://localhost:8080/"
        },
        "id": "bnWU9skbia1v",
        "outputId": "f9a5eff5-d03e-41f2-be15-6d041a578c4d"
      },
      "outputs": [
        {
          "name": "stdout",
          "output_type": "stream",
          "text": [
            "영어입력 : piano\n",
            "한글입력 : 피아노\n",
            "설명입력 : 건반악기\n",
            "입력을 끝내시겠습니까 (y/n)y\n"
          ]
        }
      ],
      "source": [
        "dic = {}\n",
        "\n",
        "while True:\n",
        "    eng = input('영어입력 : ')\n",
        "    lan = input('한글입력 : ')\n",
        "    detail = input('설명입력 : ')\n",
        "    dic[eng] = [lan, detail]\n",
        "\n",
        "    for x, y in dic.items():\n",
        "        s = x + ':' + y[0] + '=' + y[1] + '\\n'\n",
        "\n",
        "        with open('dic.txt', 'a') as f:\n",
        "            f.write(s)\n",
        "            s = ''\n",
        "    z = input('입력을 끝내시겠습니까 (y/n)')\n",
        "\n",
        "    if z == 'y':\n",
        "        break\n",
        "    else:\n",
        "        continue"
      ]
    }
  ]
}