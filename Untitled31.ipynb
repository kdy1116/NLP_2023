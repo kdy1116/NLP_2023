{
  "nbformat": 4,
  "nbformat_minor": 0,
  "metadata": {
    "colab": {
      "provenance": [],
      "authorship_tag": "ABX9TyON53hKQ0+9cHYMJ1Bmf+qB",
      "include_colab_link": true
    },
    "kernelspec": {
      "name": "python3",
      "display_name": "Python 3"
    },
    "language_info": {
      "name": "python"
    }
  },
  "cells": [
    {
      "cell_type": "markdown",
      "metadata": {
        "id": "view-in-github",
        "colab_type": "text"
      },
      "source": [
        "<a href=\"https://colab.research.google.com/github/kdy1116/NLP_2023/blob/main/Untitled31.ipynb\" target=\"_parent\"><img src=\"https://colab.research.google.com/assets/colab-badge.svg\" alt=\"Open In Colab\"/></a>"
      ]
    },
    {
      "cell_type": "code",
      "execution_count": null,
      "metadata": {
        "id": "RVSQpyL3Uxtj"
      },
      "outputs": [],
      "source": [
        "import random\n",
        "random. choices(range (1, 101), k = 5)"
      ]
    },
    {
      "cell_type": "code",
      "source": [
        "import random\n",
        "for in range (5):\n",
        "print (random. choice(range (1, 101)))"
      ],
      "metadata": {
        "id": "iZ695GQPU0hB"
      },
      "execution_count": null,
      "outputs": []
    }
  ]
}