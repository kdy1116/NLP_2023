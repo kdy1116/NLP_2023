{
  "nbformat": 4,
  "nbformat_minor": 0,
  "metadata": {
    "colab": {
      "provenance": [],
      "authorship_tag": "ABX9TyPc6cQjuTyrNXLP3/Sm0QNT",
      "include_colab_link": true
    },
    "kernelspec": {
      "name": "python3",
      "display_name": "Python 3"
    },
    "language_info": {
      "name": "python"
    }
  },
  "cells": [
    {
      "cell_type": "markdown",
      "metadata": {
        "id": "view-in-github",
        "colab_type": "text"
      },
      "source": [
        "<a href=\"https://colab.research.google.com/github/kdy1116/NLP_2023/blob/main/Untitled31.ipynb\" target=\"_parent\"><img src=\"https://colab.research.google.com/assets/colab-badge.svg\" alt=\"Open In Colab\"/></a>"
      ]
    },
    {
      "cell_type": "code",
      "execution_count": null,
      "metadata": {
        "id": "WT4r2t4quyhj"
      },
      "outputs": [],
      "source": [
        "# 시간 초과 방지 입력\n",
        "import sys\n",
        "\n",
        "data = sys.stdin.readline().rstrip()\n",
        "print(data)\n",
        "\n",
        "# N*M 크기의 2차원 리스트 초기화\n",
        "n=4\n",
        "m=3\n",
        "array = [[0]*m for _ in range(n)]\n",
        "\n",
        "# 띄어쓰기를 기준으로 숫자 list에 담기\n",
        "data = list(map(int, input().split()))\n"
      ]
    }
  ]
}