{
  "nbformat": 4,
  "nbformat_minor": 0,
  "metadata": {
    "colab": {
      "provenance": [],
      "authorship_tag": "ABX9TyOGL1YJKz0Vqu/pQZEVD35Z",
      "include_colab_link": true
    },
    "kernelspec": {
      "name": "python3",
      "display_name": "Python 3"
    },
    "language_info": {
      "name": "python"
    }
  },
  "cells": [
    {
      "cell_type": "markdown",
      "metadata": {
        "id": "view-in-github",
        "colab_type": "text"
      },
      "source": [
        "<a href=\"https://colab.research.google.com/github/kdy1116/NLP_2023/blob/main/Untitled9.ipynb\" target=\"_parent\"><img src=\"https://colab.research.google.com/assets/colab-badge.svg\" alt=\"Open In Colab\"/></a>"
      ]
    },
    {
      "cell_type": "code",
      "execution_count": 4,
      "metadata": {
        "colab": {
          "base_uri": "https://localhost:8080/"
        },
        "id": "G9qqIz5f41rq",
        "outputId": "2195480c-1c3d-4b1c-d6b8-91f09567ffaf"
      },
      "outputs": [
        {
          "output_type": "stream",
          "name": "stdout",
          "text": [
            "200\n",
            "i love python\n",
            "['a', 'b', 'c']\n",
            "a\n",
            "{'a': 97, 'b': 98}\n",
            "97\n"
          ]
        }
      ],
      "source": [
        "a=200\n",
        "msg='i love python'\n",
        "list_data=['a','b','c']\n",
        "dict_data={'a':97,'b':98}\n",
        "print(a)\n",
        "print(msg)\n",
        "print(list_data)\n",
        "print(list_data[0])\n",
        "print(dict_data)\n",
        "print(dict_data['a'])"
      ]
    }
  ]
}