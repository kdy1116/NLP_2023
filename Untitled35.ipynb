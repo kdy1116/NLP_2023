{
  "nbformat": 4,
  "nbformat_minor": 0,
  "metadata": {
    "colab": {
      "provenance": [],
      "authorship_tag": "ABX9TyMxQzmcTcA7yYMepKQhkiUL",
      "include_colab_link": true
    },
    "kernelspec": {
      "name": "python3",
      "display_name": "Python 3"
    },
    "language_info": {
      "name": "python"
    }
  },
  "cells": [
    {
      "cell_type": "markdown",
      "metadata": {
        "id": "view-in-github",
        "colab_type": "text"
      },
      "source": [
        "<a href=\"https://colab.research.google.com/github/kdy1116/NLP_2023/blob/main/Untitled35.ipynb\" target=\"_parent\"><img src=\"https://colab.research.google.com/assets/colab-badge.svg\" alt=\"Open In Colab\"/></a>"
      ]
    },
    {
      "cell_type": "code",
      "execution_count": null,
      "metadata": {
        "id": "_zHBWd_Kan-y"
      },
      "outputs": [],
      "source": [
        "def even_num(*args):\n",
        "    \"\"\" 짝수의 개수를 반환 \"\"\"\n",
        "    count = 0\n",
        "    for arg in args:\n",
        "        if arg % 2 == 0:\n",
        "            count += 1\n",
        "\n",
        "    return count\n",
        "\n",
        "# 예시 1\n",
        "print(even_num(1,2,3))\n",
        "\n",
        "# 예시 2\n",
        "print(even_num(2,3,4,6,7,8))"
      ]
    }
  ]
}