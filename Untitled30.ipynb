{
  "nbformat": 4,
  "nbformat_minor": 0,
  "metadata": {
    "colab": {
      "provenance": [],
      "authorship_tag": "ABX9TyMBCJjVlrUJEAHnGPD88cr+",
      "include_colab_link": true
    },
    "kernelspec": {
      "name": "python3",
      "display_name": "Python 3"
    },
    "language_info": {
      "name": "python"
    }
  },
  "cells": [
    {
      "cell_type": "markdown",
      "metadata": {
        "id": "view-in-github",
        "colab_type": "text"
      },
      "source": [
        "<a href=\"https://colab.research.google.com/github/kdy1116/NLP_2023/blob/main/Untitled30.ipynb\" target=\"_parent\"><img src=\"https://colab.research.google.com/assets/colab-badge.svg\" alt=\"Open In Colab\"/></a>"
      ]
    },
    {
      "cell_type": "code",
      "execution_count": 2,
      "metadata": {
        "colab": {
          "base_uri": "https://localhost:8080/",
          "height": 200
        },
        "id": "jxBwKE3u88vB",
        "outputId": "d33f1c03-4ed0-4687-a950-fd761ed7a0f8"
      },
      "outputs": [
        {
          "output_type": "error",
          "ename": "SyntaxError",
          "evalue": "ignored",
          "traceback": [
            "\u001b[0;36m  File \u001b[0;32m\"<ipython-input-2-e798d8d482e0>\"\u001b[0;36m, line \u001b[0;32m8\u001b[0m\n\u001b[0;31m    print (”#h총 정답 추출 모음#h : %\"%(sumsu)\u001b[0m\n\u001b[0m           ^\u001b[0m\n\u001b[0;31mSyntaxError\u001b[0m\u001b[0;31m:\u001b[0m invalid character '”' (U+201D)\n"
          ]
        }
      ],
      "source": [
        "import random\n",
        "sumsu = I\n",
        "Inun = int (input (\"난수를 얼마나 가져올까요?: \"))\n",
        "for x in range(1,num+1):\n",
        "y = random. randint (1,5)\n",
        "print (\"%d번째 정답은 %번일지도 몰라요 !\"%(x, y))\n",
        "sumsu.append(y)\n",
        "print (”#h총 정답 추출 모음#h : %\"%(sumsu)"
      ]
    }
  ]
}