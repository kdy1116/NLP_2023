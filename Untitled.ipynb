{
  "nbformat": 4,
  "nbformat_minor": 0,
  "metadata": {
    "colab": {
      "provenance": [],
      "authorship_tag": "ABX9TyPBwN7lDVL8/Qvpk525MF8R",
      "include_colab_link": true
    },
    "kernelspec": {
      "name": "python3",
      "display_name": "Python 3"
    },
    "language_info": {
      "name": "python"
    }
  },
  "cells": [
    {
      "cell_type": "markdown",
      "metadata": {
        "id": "view-in-github",
        "colab_type": "text"
      },
      "source": [
        "<a href=\"https://colab.research.google.com/github/kdy1116/NLP_2023/blob/main/Untitled.ipynb\" target=\"_parent\"><img src=\"https://colab.research.google.com/assets/colab-badge.svg\" alt=\"Open In Colab\"/></a>"
      ]
    },
    {
      "cell_type": "code",
      "execution_count": 1,
      "metadata": {
        "colab": {
          "base_uri": "https://localhost:8080/"
        },
        "id": "tFPZKOgQEpGN",
        "outputId": "26dd6f67-e212-4beb-c3cb-7c3b303e6a17"
      },
      "outputs": [
        {
          "output_type": "stream",
          "name": "stdout",
          "text": [
            "100\n",
            "100\n",
            "d\n"
          ]
        }
      ],
      "source": [
        "print('100')\n",
        "print (100)\n",
        "print(chr(100))\n"
      ]
    },
    {
      "cell_type": "code",
      "source": [
        "print(\"당신의 이름은,무엇인가요?\")\n",
        "name=input()\n",
        "\n",
        "print(name,\"님반가워요.\")"
      ],
      "metadata": {
        "colab": {
          "base_uri": "https://localhost:8080/"
        },
        "id": "tRnPrIXWE40B",
        "outputId": "391c7e91-2489-48fe-d4b9-352e36967f6f"
      },
      "execution_count": 9,
      "outputs": [
        {
          "output_type": "stream",
          "name": "stdout",
          "text": [
            "당신의 이름은,무엇인가요?\n",
            "김대연\n",
            "김대연 님반가워요.\n"
          ]
        }
      ]
    },
    {
      "cell_type": "code",
      "source": [],
      "metadata": {
        "id": "WvBwq10eFszm"
      },
      "execution_count": null,
      "outputs": []
    }
  ]
}