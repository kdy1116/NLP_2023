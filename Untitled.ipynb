{
  "nbformat": 4,
  "nbformat_minor": 0,
  "metadata": {
    "colab": {
      "provenance": [],
      "authorship_tag": "ABX9TyPlZ1OQApibYelJRy7ym8rP",
      "include_colab_link": true
    },
    "kernelspec": {
      "name": "python3",
      "display_name": "Python 3"
    },
    "language_info": {
      "name": "python"
    }
  },
  "cells": [
    {
      "cell_type": "markdown",
      "metadata": {
        "id": "view-in-github",
        "colab_type": "text"
      },
      "source": [
        "<a href=\"https://colab.research.google.com/github/kdy1116/NLP_2023/blob/main/Untitled.ipynb\" target=\"_parent\"><img src=\"https://colab.research.google.com/assets/colab-badge.svg\" alt=\"Open In Colab\"/></a>"
      ]
    },
    {
      "cell_type": "code",
      "execution_count": null,
      "metadata": {
        "id": "AHdDiprizk-s"
      },
      "outputs": [],
      "source": [
        "\n",
        "int main(void)\n",
        "{\n",
        "    int a, b;\n",
        "    int sum;\n",
        "\n",
        "    scanf(\"%d\", &a);  //값을 입력하여 정수형 변수 a 저장\n",
        "    scanf(\"%d\", &b);  //값을 입력하여 정수형 변수 a 저장\n",
        "\n",
        "    sum = a + b;\n",
        "\n",
        "    printf(\"sum = %d\\n\", sum); //결과를 화면에 출력\n",
        "    return 0;\n",
        "}\n"
      ]
    }
  ]
}