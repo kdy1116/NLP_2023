{
  "nbformat": 4,
  "nbformat_minor": 0,
  "metadata": {
    "colab": {
      "provenance": [],
      "authorship_tag": "ABX9TyPrtzzQ4iQ15ix+KFuEm7iV",
      "include_colab_link": true
    },
    "kernelspec": {
      "name": "python3",
      "display_name": "Python 3"
    },
    "language_info": {
      "name": "python"
    }
  },
  "cells": [
    {
      "cell_type": "markdown",
      "metadata": {
        "id": "view-in-github",
        "colab_type": "text"
      },
      "source": [
        "<a href=\"https://colab.research.google.com/github/kdy1116/NLP_2023/blob/main/Untitled37.ipynb\" target=\"_parent\"><img src=\"https://colab.research.google.com/assets/colab-badge.svg\" alt=\"Open In Colab\"/></a>"
      ]
    },
    {
      "cell_type": "code",
      "execution_count": null,
      "metadata": {
        "id": "JRPl3s-tPKjp"
      },
      "outputs": [],
      "source": [
        "include <stdio.h>\n",
        "\n",
        "\n",
        "int main() {\n",
        "\tchar c1 = 'A', c2 = '4', c3 = '7', c4 = '6', c5 = 'B';\n",
        "\tint num = 0;\n",
        "\n",
        "\t//'0'을 빼는 이유는 그래야 숫자값이랑 같은 수가 나오기 때문이다.'0' = 48, '9' = 57\n",
        "\tif (c1 >= '0' && c1 <'9') {// 숫자\n",
        "\t\tif ('5' < c1) num += c1 - '0';\n",
        "\t}\n",
        "\tif (c2 >= '0' && c2 < '9') {// 숫자\n",
        "\t\tif ('5' < c2) num += c2 - '0';\n",
        "\t}\n",
        "\tif (c3 >= '0' && c3 < '9') {// 숫자\n",
        "\t\tif ('5' < c3) num += c3 - '0';\n",
        "\t}\n",
        "\tif (c4 >= '0' && c4 < '9') {// 숫자\n",
        "\t\tif ('5' < c4) num += c4 - '0';\n",
        "\t}\n",
        "\tif (c5 >= '0' && c5 < '9') {// 숫자\n",
        "\t\tif ('5' < c5) num += c5 - '0';\n",
        "\t}\n",
        "\n",
        "\tprintf(\"합: %d\", num);\n",
        "\n",
        "\treturn 0;\n",
        "}"
      ]
    }
  ]
}