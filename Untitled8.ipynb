{
  "nbformat": 4,
  "nbformat_minor": 0,
  "metadata": {
    "colab": {
      "provenance": [],
      "authorship_tag": "ABX9TyPDuMwxLPgavVwASaBmx2mA",
      "include_colab_link": true
    },
    "kernelspec": {
      "name": "python3",
      "display_name": "Python 3"
    },
    "language_info": {
      "name": "python"
    }
  },
  "cells": [
    {
      "cell_type": "markdown",
      "metadata": {
        "id": "view-in-github",
        "colab_type": "text"
      },
      "source": [
        "<a href=\"https://colab.research.google.com/github/kdy1116/NLP_2023/blob/main/Untitled8.ipynb\" target=\"_parent\"><img src=\"https://colab.research.google.com/assets/colab-badge.svg\" alt=\"Open In Colab\"/></a>"
      ]
    },
    {
      "cell_type": "code",
      "execution_count": 1,
      "metadata": {
        "id": "dhveFo0N2xVF"
      },
      "outputs": [],
      "source": [
        "int_data=1\n",
        "float_data=3.14\n",
        "complex_data=3.14\n",
        "str_data1='i love python'\n",
        "str_data2='반갑습니다'\n",
        "list_data=[1,2,3]\n",
        "tuple_data=(1,2,3)\n",
        "dict_data={0:'False',1:'True'}\n"
      ]
    }
  ]
}