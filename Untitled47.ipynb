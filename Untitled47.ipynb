{
  "nbformat": 4,
  "nbformat_minor": 0,
  "metadata": {
    "colab": {
      "provenance": [],
      "authorship_tag": "ABX9TyP/dS3ZV4vkEJSqTM78hl40",
      "include_colab_link": true
    },
    "kernelspec": {
      "name": "python3",
      "display_name": "Python 3"
    },
    "language_info": {
      "name": "python"
    }
  },
  "cells": [
    {
      "cell_type": "markdown",
      "metadata": {
        "id": "view-in-github",
        "colab_type": "text"
      },
      "source": [
        "<a href=\"https://colab.research.google.com/github/kdy1116/NLP_2023/blob/main/Untitled47.ipynb\" target=\"_parent\"><img src=\"https://colab.research.google.com/assets/colab-badge.svg\" alt=\"Open In Colab\"/></a>"
      ]
    },
    {
      "cell_type": "code",
      "execution_count": null,
      "metadata": {
        "id": "3lwOz0no05Z3"
      },
      "outputs": [],
      "source": [
        "a := 0\n",
        "b := 1\n",
        "Loop, 9\n",
        "{\n",
        "    b++\n",
        "    Loop, 9\n",
        "    {\n",
        "        a++\n",
        "        c := a * b\n",
        "        d .= b \" x \" a \" = \" c \"`n\"\n",
        "    }\n",
        "    a := 0\n",
        "    Msgbox, % d\n",
        "    d := \"\"\n",
        "}\n",
        "Exitapp"
      ]
    }
  ]
}