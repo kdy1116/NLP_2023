{
  "nbformat": 4,
  "nbformat_minor": 0,
  "metadata": {
    "colab": {
      "provenance": [],
      "authorship_tag": "ABX9TyOkKc8aSPq1sPDOfcoavJ8M",
      "include_colab_link": true
    },
    "kernelspec": {
      "name": "python3",
      "display_name": "Python 3"
    },
    "language_info": {
      "name": "python"
    }
  },
  "cells": [
    {
      "cell_type": "markdown",
      "metadata": {
        "id": "view-in-github",
        "colab_type": "text"
      },
      "source": [
        "<a href=\"https://colab.research.google.com/github/kdy1116/NLP_2023/blob/main/Untitled47.ipynb\" target=\"_parent\"><img src=\"https://colab.research.google.com/assets/colab-badge.svg\" alt=\"Open In Colab\"/></a>"
      ]
    },
    {
      "cell_type": "code",
      "execution_count": null,
      "metadata": {
        "id": "qcR8JZMbkwK2"
      },
      "outputs": [],
      "source": [
        "bottle :: Int -> String\n",
        "bottle 0 = \"no more bottles\"\n",
        "bottle 1 = \"1 bottle\"\n",
        "bottle n = show n ++ \" bottles\"\n",
        "\n",
        "message :: Int -> String\n",
        "message 0 = \"No more bottles of beer on the wall, no more bottles of beer\\n\" ++\n",
        "            \"Go to the store and buy some more, 99 bottles of beer on the wall\\n\"\n",
        "message n = bottle n ++ \" of beer on the wall, \" ++ bottle n ++ \" of beer\\n\" ++\n",
        "            \"Take one down and pass it around, \" ++ bottle (n-1) ++ \" of beer on the wall\\n\"\n",
        "\n",
        "main :: IO ()\n",
        "main = mapM_ (putStr . message) [99, 98..0]\n"
      ]
    }
  ]
}