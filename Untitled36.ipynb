{
  "nbformat": 4,
  "nbformat_minor": 0,
  "metadata": {
    "colab": {
      "provenance": [],
      "authorship_tag": "ABX9TyN3I1OzUKbJSm52Ja357di+",
      "include_colab_link": true
    },
    "kernelspec": {
      "name": "python3",
      "display_name": "Python 3"
    },
    "language_info": {
      "name": "python"
    }
  },
  "cells": [
    {
      "cell_type": "markdown",
      "metadata": {
        "id": "view-in-github",
        "colab_type": "text"
      },
      "source": [
        "<a href=\"https://colab.research.google.com/github/kdy1116/NLP_2023/blob/main/Untitled36.ipynb\" target=\"_parent\"><img src=\"https://colab.research.google.com/assets/colab-badge.svg\" alt=\"Open In Colab\"/></a>"
      ]
    },
    {
      "cell_type": "code",
      "execution_count": null,
      "metadata": {
        "id": "cJ4mQbgNhzQg"
      },
      "outputs": [],
      "source": [
        "def solution(n, t1, t2):\n",
        "\n",
        "    if t1:\n",
        "        groups = []\n",
        "    else:\n",
        "        return [i for i in range(1, n+1)]\n",
        "\n",
        "    for s1, s2 in zip(t1, t2):\n",
        "        exists = False\n",
        "        for group in groups:\n",
        "            if s1 in group and s2 not in group:\n",
        "                group.append(s2)\n",
        "                exists = True\n",
        "                break\n",
        "            elif s2 in group and s1 not in group:\n",
        "                group.append(s1)\n",
        "                exists = True\n",
        "                break\n",
        "        if not exists:\n",
        "            groups.append([s1, s2])\n",
        "\n",
        "    answer = []\n",
        "    for group in groups:\n",
        "        answer.append(sorted(group)[sum(divmod(len(group), 2)) - 1])\n",
        "\n",
        "    unpacked = []\n",
        "    for i in range(len(groups)):\n",
        "        unpacked.extend(groups[i])\n",
        "\n",
        "    for i in range(1, n+1):\n",
        "        if not i in unpacked:\n",
        "            answer.append(i)\n",
        "\n",
        "    return sorted(answer)\n",
        "\n",
        "print(solution(int(input), eval(input()), eval(input())))"
      ]
    }
  ]
}