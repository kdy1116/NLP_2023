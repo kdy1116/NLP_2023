{
  "nbformat": 4,
  "nbformat_minor": 0,
  "metadata": {
    "colab": {
      "provenance": [],
      "authorship_tag": "ABX9TyND5TNSE+m7YXOaomBjsBUF",
      "include_colab_link": true
    },
    "kernelspec": {
      "name": "python3",
      "display_name": "Python 3"
    },
    "language_info": {
      "name": "python"
    }
  },
  "cells": [
    {
      "cell_type": "markdown",
      "metadata": {
        "id": "view-in-github",
        "colab_type": "text"
      },
      "source": [
        "<a href=\"https://colab.research.google.com/github/kdy1116/NLP_2023/blob/main/Untitled10.ipynb\" target=\"_parent\"><img src=\"https://colab.research.google.com/assets/colab-badge.svg\" alt=\"Open In Colab\"/></a>"
      ]
    },
    {
      "cell_type": "code",
      "execution_count": 1,
      "metadata": {
        "colab": {
          "base_uri": "https://localhost:8080/"
        },
        "id": "sYxd7GSK6Z1R",
        "outputId": "9bb68d49-3ce7-49a3-99bf-c04cbf6c469d"
      },
      "outputs": [
        {
          "output_type": "stream",
          "name": "stdout",
          "text": [
            "a가listdata에 존재하지 않습니다.\n"
          ]
        }
      ],
      "source": [
        "listdata=['a,''b','c']\n",
        "if'a'in listdata:\n",
        "  print('a가listdata에 있습니다.')\n",
        "  print(listdata)\n",
        "else:\n",
        "  print('a가listdata에 존재하지 않습니다.')"
      ]
    }
  ]
}