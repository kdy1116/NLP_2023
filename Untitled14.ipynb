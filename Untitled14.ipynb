{
  "nbformat": 4,
  "nbformat_minor": 0,
  "metadata": {
    "colab": {
      "provenance": [],
      "authorship_tag": "ABX9TyMB+iE+CdhqZNVS0gS7TUSo",
      "include_colab_link": true
    },
    "kernelspec": {
      "name": "python3",
      "display_name": "Python 3"
    },
    "language_info": {
      "name": "python"
    }
  },
  "cells": [
    {
      "cell_type": "markdown",
      "metadata": {
        "id": "view-in-github",
        "colab_type": "text"
      },
      "source": [
        "<a href=\"https://colab.research.google.com/github/kdy1116/NLP_2023/blob/main/Untitled14.ipynb\" target=\"_parent\"><img src=\"https://colab.research.google.com/assets/colab-badge.svg\" alt=\"Open In Colab\"/></a>"
      ]
    },
    {
      "cell_type": "code",
      "execution_count": 2,
      "metadata": {
        "colab": {
          "base_uri": "https://localhost:8080/"
        },
        "id": "TzdHzrjOrhZW",
        "outputId": "a096bd70-f726-4e6d-8877-2b78c208195b"
      },
      "outputs": [
        {
          "output_type": "stream",
          "name": "stdout",
          "text": [
            "초를 적으십시오 :3483242342\n",
            "3483242342 초는 967567 시간 19 분 2 초 입니다.\n"
          ]
        }
      ],
      "source": [
        "e = int(input('초를 적으십시오 :'))\n",
        "hour = e // 3600\n",
        "min = e % 3600 //60\n",
        "sec = e % 60\n",
        "print(e, '초는',hour, '시간', min, '분', sec, '초', '입니다.')"
      ]
    }
  ]
}