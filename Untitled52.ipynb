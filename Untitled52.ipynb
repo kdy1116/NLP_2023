{
  "nbformat": 4,
  "nbformat_minor": 0,
  "metadata": {
    "colab": {
      "provenance": [],
      "authorship_tag": "ABX9TyP9ZChPciSwTwZ67Ig8qGXF",
      "include_colab_link": true
    },
    "kernelspec": {
      "name": "python3",
      "display_name": "Python 3"
    },
    "language_info": {
      "name": "python"
    }
  },
  "cells": [
    {
      "cell_type": "markdown",
      "metadata": {
        "id": "view-in-github",
        "colab_type": "text"
      },
      "source": [
        "<a href=\"https://colab.research.google.com/github/kdy1116/NLP_2023/blob/main/Untitled52.ipynb\" target=\"_parent\"><img src=\"https://colab.research.google.com/assets/colab-badge.svg\" alt=\"Open In Colab\"/></a>"
      ]
    },
    {
      "cell_type": "code",
      "execution_count": null,
      "metadata": {
        "id": "IqGxFcTb7GcN"
      },
      "outputs": [],
      "source": [
        "fun main(args: Array<String>) {\n",
        "    (99 downTo 0).forEach { printVerse(it) }\n",
        "}\n",
        "\n",
        "fun printVerse(n: Int) {\n",
        "    println(\n",
        "        when (n) {\n",
        "            0 -> \"\"\"\n",
        "                |${n.bottles()} of beer on the wall, ${n.bottles()} of beer.\n",
        "                |Go to the store and buy some more, ${99.bottles()} of beer on the wall.\n",
        "                |\"\"\".trimMargin()\n",
        "            else -> \"\"\"\n",
        "                |${n.bottles()} of beer on the wall, ${n.bottles()} of beer.\n",
        "                |Take one down and pass it around, ${(n - 1).bottles()} of beer on the wall.\n",
        "                |\"\"\".trimMargin()\n",
        "        }\n",
        "    )\n",
        "}\n",
        "\n",
        "fun Int.bottles(): String {\n",
        "    return when (this) {\n",
        "        0 -> \"No more bottles\"\n",
        "        1 -> \"1 bottle\"\n",
        "        else -> \"$this bottles\"\n",
        "    }\n",
        "}"
      ]
    }
  ]
}