{
  "nbformat": 4,
  "nbformat_minor": 0,
  "metadata": {
    "colab": {
      "provenance": [],
      "authorship_tag": "ABX9TyPrZQTm6PrsBgL4IIS+xFY6",
      "include_colab_link": true
    },
    "kernelspec": {
      "name": "python3",
      "display_name": "Python 3"
    },
    "language_info": {
      "name": "python"
    }
  },
  "cells": [
    {
      "cell_type": "markdown",
      "metadata": {
        "id": "view-in-github",
        "colab_type": "text"
      },
      "source": [
        "<a href=\"https://colab.research.google.com/github/kdy1116/NLP_2023/blob/main/Untitled40.ipynb\" target=\"_parent\"><img src=\"https://colab.research.google.com/assets/colab-badge.svg\" alt=\"Open In Colab\"/></a>"
      ]
    },
    {
      "cell_type": "code",
      "execution_count": null,
      "metadata": {
        "id": "j_6DAyCiALqc"
      },
      "outputs": [],
      "source": [
        "include <stdio.h>\n",
        "\n",
        "const int N = 16;\n",
        "const int blocksize = 16;\n",
        "\n",
        "__global__\n",
        "void hello(char *a, int *b)\n",
        "{\n",
        "    a[threadIdx.x] += b[threadIdx.x];\n",
        "}\n",
        "\n",
        "int main()\n",
        "{\n",
        "    char a[N] = \"Hello \\0\\0\\0\\0\\0\\0\";\n",
        "    int b[N] = {15, 10, 6, 0, -11, 1, 0, 0, 0, 0, 0, 0, 0, 0, 0, 0};\n",
        "\n",
        "    char *ad;\n",
        "    int *bd;\n",
        "    const int csize = N*sizeof(char);\n",
        "    const int isize = N*sizeof(int);\n",
        "\n",
        "    printf(\"%s\", a);\n",
        "\n",
        "    cudaMalloc( (void**)&ad, csize );\n",
        "    cudaMalloc( (void**)&bd, isize );\n",
        "    cudaMemcpy( ad, a, csize, cudaMemcpyHostToDevice );\n",
        "    cudaMemcpy( bd, b, isize, cudaMemcpyHostToDevice );\n",
        "\n",
        "    dim3 dimBlock( blocksize, 1 );\n",
        "    dim3 dimGrid( 1, 1 );\n",
        "    hello<<<dimGrid, dimBlock>>>(ad, bd);\n",
        "    cudaMemcpy( a, ad, csize, cudaMemcpyDeviceToHost );\n",
        "    cudaFree( ad );\n",
        "    cudaFree( bd );\n",
        "\n",
        "    printf(\"%s\\n\", a);\n",
        "    return EXIT_SUCCESS;\n",
        "}"
      ]
    }
  ]
}