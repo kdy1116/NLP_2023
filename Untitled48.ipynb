{
  "nbformat": 4,
  "nbformat_minor": 0,
  "metadata": {
    "colab": {
      "provenance": [],
      "authorship_tag": "ABX9TyPVMNF9C8LycPmfEKOJrMIz",
      "include_colab_link": true
    },
    "kernelspec": {
      "name": "python3",
      "display_name": "Python 3"
    },
    "language_info": {
      "name": "python"
    }
  },
  "cells": [
    {
      "cell_type": "markdown",
      "metadata": {
        "id": "view-in-github",
        "colab_type": "text"
      },
      "source": [
        "<a href=\"https://colab.research.google.com/github/kdy1116/NLP_2023/blob/main/Untitled48.ipynb\" target=\"_parent\"><img src=\"https://colab.research.google.com/assets/colab-badge.svg\" alt=\"Open In Colab\"/></a>"
      ]
    },
    {
      "cell_type": "code",
      "execution_count": null,
      "metadata": {
        "id": "BNk604rK1u-I"
      },
      "outputs": [],
      "source": [
        "import Data.String\n",
        "\n",
        "Interpolation Int where interpolate = show\n",
        "\n",
        "pad2 : (Show a) => a -> String\n",
        "pad2 x = padLeft 2 ' ' (show x)\n",
        "\n",
        "times : Int -> Int -> String\n",
        "times x y = \"\\{x} * \\{y} = \\{pad2 (x * y)}\"\n",
        "\n",
        "timesRow : Int -> String\n",
        "timesRow y = joinBy \" | \" [times x y | x <- [2..9]]\n",
        "\n",
        "main : IO ()\n",
        "main = traverse_ putStrLn [timesRow y | y <- [1..9]]"
      ]
    }
  ]
}