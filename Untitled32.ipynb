{
  "nbformat": 4,
  "nbformat_minor": 0,
  "metadata": {
    "colab": {
      "provenance": [],
      "authorship_tag": "ABX9TyPc9SMbpW27pK9UYyzfZoP/",
      "include_colab_link": true
    },
    "kernelspec": {
      "name": "python3",
      "display_name": "Python 3"
    },
    "language_info": {
      "name": "python"
    }
  },
  "cells": [
    {
      "cell_type": "markdown",
      "metadata": {
        "id": "view-in-github",
        "colab_type": "text"
      },
      "source": [
        "<a href=\"https://colab.research.google.com/github/kdy1116/NLP_2023/blob/main/Untitled32.ipynb\" target=\"_parent\"><img src=\"https://colab.research.google.com/assets/colab-badge.svg\" alt=\"Open In Colab\"/></a>"
      ]
    },
    {
      "cell_type": "code",
      "execution_count": null,
      "metadata": {
        "id": "03suE2h8k4mZ"
      },
      "outputs": [],
      "source": [
        "# 생성된 멜로디\n",
        "\n",
        "generated_melody = ['C', 'D', 'E', 'F', 'G', 'A', 'B', 'C', 'E', 'G']\n",
        "\n",
        "​\n",
        "\n",
        "# 그래프 생성\n",
        "\n",
        "G = nx.DiGraph()\n",
        "\n",
        "​\n",
        "\n",
        "# 노드 추가\n",
        "\n",
        "for i in range(len(generated_melody) - 1):\n",
        "\n",
        "    source_node = generated_melody[i]\n",
        "\n",
        "    target_node = generated_melody[i + 1]\n",
        "\n",
        "​\n",
        "\n",
        "    if not G.has_edge(source_node, target_node):\n",
        "\n",
        "        G.add_edge(source_node, target_node, weight=1)\n",
        "\n",
        "    else:\n",
        "\n",
        "        G[source_node][target_node]['weight'] += 1\n",
        "\n",
        "​\n",
        "\n",
        "# 그래프 그리기\n",
        "\n",
        "pos = nx.spring_layout(G)\n",
        "\n",
        "labels = nx.get_edge_attributes(G, 'weight')\n",
        "\n",
        "edge_labels = {k: f\"{v}\" for k, v in labels.items()}\n",
        "\n",
        "nx.draw(G, pos, with_labels=True, node_size=500, node_color='skyblue', font_size=10)\n",
        "\n",
        "nx.draw_networkx_edge_labels(G, pos, edge_labels=edge_labels, font_size=8)\n",
        "\n",
        "plt.show()"
      ]
    }
  ]
}