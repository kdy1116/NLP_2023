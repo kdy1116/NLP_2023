{
  "nbformat": 4,
  "nbformat_minor": 0,
  "metadata": {
    "colab": {
      "provenance": [],
      "authorship_tag": "ABX9TyPssjqXqukkRtTR8FreX1z5",
      "include_colab_link": true
    },
    "kernelspec": {
      "name": "python3",
      "display_name": "Python 3"
    },
    "language_info": {
      "name": "python"
    }
  },
  "cells": [
    {
      "cell_type": "markdown",
      "metadata": {
        "id": "view-in-github",
        "colab_type": "text"
      },
      "source": [
        "<a href=\"https://colab.research.google.com/github/kdy1116/NLP_2023/blob/main/Untitled27.ipynb\" target=\"_parent\"><img src=\"https://colab.research.google.com/assets/colab-badge.svg\" alt=\"Open In Colab\"/></a>"
      ]
    },
    {
      "cell_type": "code",
      "execution_count": 1,
      "metadata": {
        "colab": {
          "base_uri": "https://localhost:8080/",
          "height": 182
        },
        "id": "gWyxTFvQUIrK",
        "outputId": "d9269750-0de0-4d4e-970c-a725f275ea93"
      },
      "outputs": [
        {
          "output_type": "error",
          "ename": "SyntaxError",
          "evalue": "ignored",
          "traceback": [
            "\u001b[0;36m  File \u001b[0;32m\"<ipython-input-1-e7ddf6a69898>\"\u001b[0;36m, line \u001b[0;32m15\u001b[0m\n\u001b[0;31m    ​\u001b[0m\n\u001b[0m    ^\u001b[0m\n\u001b[0;31mSyntaxError\u001b[0m\u001b[0;31m:\u001b[0m invalid non-printable character U+200B\n"
          ]
        }
      ],
      "source": [
        "vowels = [\"b\", \"d\", \"e\", \"s\", \"n\", \"B\", \"D\", \"E\", \"S\", \"N\"]\n",
        "\n",
        "ef count_vowels(word):\n",
        "\n",
        "    count = 0\n",
        "\n",
        "    for letter in word:\n",
        "\n",
        "        if letter in vowels:\n",
        "\n",
        "            count += 1\n",
        "\n",
        "    return count\n",
        "\n",
        "​\n",
        "\n",
        "word = input(\"영어단어 입력: \")\n",
        "\n",
        "print(f\"입력받은 \\\"{word}\\\"에서 모음은 {count_vowels(word)}개.\")\n",
        "\n",
        "​"
      ]
    }
  ]
}