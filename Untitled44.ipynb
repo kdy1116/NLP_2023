{
  "nbformat": 4,
  "nbformat_minor": 0,
  "metadata": {
    "colab": {
      "provenance": [],
      "authorship_tag": "ABX9TyOqLT0OiTcrvoY3RatdYUyu",
      "include_colab_link": true
    },
    "kernelspec": {
      "name": "python3",
      "display_name": "Python 3"
    },
    "language_info": {
      "name": "python"
    }
  },
  "cells": [
    {
      "cell_type": "markdown",
      "metadata": {
        "id": "view-in-github",
        "colab_type": "text"
      },
      "source": [
        "<a href=\"https://colab.research.google.com/github/kdy1116/NLP_2023/blob/main/Untitled44.ipynb\" target=\"_parent\"><img src=\"https://colab.research.google.com/assets/colab-badge.svg\" alt=\"Open In Colab\"/></a>"
      ]
    },
    {
      "cell_type": "code",
      "execution_count": null,
      "metadata": {
        "id": "RofVyKiC_tXU"
      },
      "outputs": [],
      "source": [
        "#include <stdio.h>\n",
        "\n",
        "int main(void) {\n",
        "    int i, j;\n",
        "    i=2;\n",
        "    while(i <= 9) {\n",
        "        j=1;\n",
        "        while(j <= 9) {\n",
        "            printf(\"%02d * %02d = %03d\\n\", i, j, i*j);\n",
        "            j++;\n",
        "        }\n",
        "        i++;\n",
        "        putchar('\\n');\n",
        "    }\n",
        "    return 0;\n",
        "}\n"
      ]
    }
  ]
}