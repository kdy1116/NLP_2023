{
  "nbformat": 4,
  "nbformat_minor": 0,
  "metadata": {
    "colab": {
      "provenance": [],
      "authorship_tag": "ABX9TyN4oxmFCYDOFNC4YUnMpsy5",
      "include_colab_link": true
    },
    "kernelspec": {
      "name": "python3",
      "display_name": "Python 3"
    },
    "language_info": {
      "name": "python"
    }
  },
  "cells": [
    {
      "cell_type": "markdown",
      "metadata": {
        "id": "view-in-github",
        "colab_type": "text"
      },
      "source": [
        "<a href=\"https://colab.research.google.com/github/kdy1116/NLP_2023/blob/main/Untitled49.ipynb\" target=\"_parent\"><img src=\"https://colab.research.google.com/assets/colab-badge.svg\" alt=\"Open In Colab\"/></a>"
      ]
    },
    {
      "cell_type": "code",
      "execution_count": null,
      "metadata": {
        "id": "pPl7dsFXeUS5"
      },
      "outputs": [],
      "source": [
        "section .data\n",
        "hello_world     db      \"Hello, world!\", 0x0a\n",
        "\n",
        "        section .text\n",
        "        global _start\n",
        "\n",
        "_start:\n",
        "        mov rax, 4\n",
        "        mov rbx, 1\n",
        "        mov rcx, hello_world\n",
        "        mov rdx, 14\n",
        "        syscall\n",
        "        mov rax, 1\n",
        "        mov rbx, 0\n",
        "        syscall"
      ]
    }
  ]
}