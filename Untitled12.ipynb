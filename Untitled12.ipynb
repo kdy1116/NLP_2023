{
  "nbformat": 4,
  "nbformat_minor": 0,
  "metadata": {
    "colab": {
      "provenance": [],
      "authorship_tag": "ABX9TyOceGWI9Je9WbPMlKIfzpYw",
      "include_colab_link": true
    },
    "kernelspec": {
      "name": "python3",
      "display_name": "Python 3"
    },
    "language_info": {
      "name": "python"
    }
  },
  "cells": [
    {
      "cell_type": "markdown",
      "metadata": {
        "id": "view-in-github",
        "colab_type": "text"
      },
      "source": [
        "<a href=\"https://colab.research.google.com/github/kdy1116/NLP_2023/blob/main/Untitled12.ipynb\" target=\"_parent\"><img src=\"https://colab.research.google.com/assets/colab-badge.svg\" alt=\"Open In Colab\"/></a>"
      ]
    },
    {
      "cell_type": "code",
      "execution_count": null,
      "metadata": {
        "id": "ZCTOpY4L7gkd"
      },
      "outputs": [],
      "source": [
        "x=1\n",
        "y=2\n",
        "ifx>y:\n",
        "  print('x가 y보다 큽니다.')\n",
        "elif x<y:\n",
        "  print('x가 y보다 작습니다.')\n",
        "else:\n",
        "  print('x와 y가 같습니다.')"
      ]
    }
  ]
}