{
  "nbformat": 4,
  "nbformat_minor": 0,
  "metadata": {
    "colab": {
      "provenance": [],
      "authorship_tag": "ABX9TyNQe/BXC3WicNs2TFF634LY",
      "include_colab_link": true
    },
    "kernelspec": {
      "name": "python3",
      "display_name": "Python 3"
    },
    "language_info": {
      "name": "python"
    }
  },
  "cells": [
    {
      "cell_type": "markdown",
      "metadata": {
        "id": "view-in-github",
        "colab_type": "text"
      },
      "source": [
        "<a href=\"https://colab.research.google.com/github/kdy1116/NLP_2023/blob/main/Untitled53.ipynb\" target=\"_parent\"><img src=\"https://colab.research.google.com/assets/colab-badge.svg\" alt=\"Open In Colab\"/></a>"
      ]
    },
    {
      "cell_type": "code",
      "execution_count": null,
      "metadata": {
        "id": "UYdsLazqq_ln"
      },
      "outputs": [],
      "source": [
        "fn main() {\n",
        "    for i in (2..10) {\n",
        "        for j in (1..10) {\n",
        "        println!(\"{} * {} = {}\", i, j, i * j);\n",
        "        }\n",
        "        println!();\n",
        "    }\n",
        "}"
      ]
    }
  ]
}