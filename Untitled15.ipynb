{
  "nbformat": 4,
  "nbformat_minor": 0,
  "metadata": {
    "colab": {
      "provenance": [],
      "authorship_tag": "ABX9TyNeExGfTaBXjnQqJMi9pDSp",
      "include_colab_link": true
    },
    "kernelspec": {
      "name": "python3",
      "display_name": "Python 3"
    },
    "language_info": {
      "name": "python"
    }
  },
  "cells": [
    {
      "cell_type": "markdown",
      "metadata": {
        "id": "view-in-github",
        "colab_type": "text"
      },
      "source": [
        "<a href=\"https://colab.research.google.com/github/kdy1116/NLP_2023/blob/main/Untitled15.ipynb\" target=\"_parent\"><img src=\"https://colab.research.google.com/assets/colab-badge.svg\" alt=\"Open In Colab\"/></a>"
      ]
    },
    {
      "cell_type": "code",
      "execution_count": 2,
      "metadata": {
        "colab": {
          "base_uri": "https://localhost:8080/",
          "height": 147
        },
        "id": "Suc2hnw5RNXb",
        "outputId": "74e199b3-8b4c-4ed2-ff30-0d77e6fd8fe4"
      },
      "outputs": [
        {
          "output_type": "error",
          "ename": "SyntaxError",
          "evalue": "ignored",
          "traceback": [
            "\u001b[0;36m  File \u001b[0;32m\"<ipython-input-2-cb33e5f5c037>\"\u001b[0;36m, line \u001b[0;32m4\u001b[0m\n\u001b[0;31m    case 'apple' ㅣ 'banana':\u001b[0m\n\u001b[0m                 ^\u001b[0m\n\u001b[0;31mSyntaxError\u001b[0m\u001b[0;31m:\u001b[0m invalid syntax\n"
          ]
        }
      ],
      "source": [
        "fruits = ['apple', 'banana']\n",
        "for f in fruits:\n",
        "  match f:\n",
        "    case 'apple' ㅣ 'banana':\n",
        "      print(f'과일 이름:{f}')\n",
        "    case _:\n",
        "      print('과일이 없습니다')"
      ]
    },
    {
      "cell_type": "code",
      "source": [],
      "metadata": {
        "id": "_MOu2FEcSC0N"
      },
      "execution_count": null,
      "outputs": []
    }
  ]
}