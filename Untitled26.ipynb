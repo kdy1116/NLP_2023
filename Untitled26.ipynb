{
  "nbformat": 4,
  "nbformat_minor": 0,
  "metadata": {
    "colab": {
      "provenance": [],
      "authorship_tag": "ABX9TyPD8HbKgIv3lOojRSCmNQNk",
      "include_colab_link": true
    },
    "kernelspec": {
      "name": "python3",
      "display_name": "Python 3"
    },
    "language_info": {
      "name": "python"
    }
  },
  "cells": [
    {
      "cell_type": "markdown",
      "metadata": {
        "id": "view-in-github",
        "colab_type": "text"
      },
      "source": [
        "<a href=\"https://colab.research.google.com/github/kdy1116/NLP_2023/blob/main/Untitled26.ipynb\" target=\"_parent\"><img src=\"https://colab.research.google.com/assets/colab-badge.svg\" alt=\"Open In Colab\"/></a>"
      ]
    },
    {
      "cell_type": "code",
      "execution_count": null,
      "metadata": {
        "id": "nMIJiUcx1vFB"
      },
      "outputs": [],
      "source": [
        "word = ['Apple', 'box', 'buzz', 'CANTUS', 'dish', 'knife', 'lady', 'pitch', 'stimulus', 'wish', 'wolf']\n",
        "\n",
        "# 모음 문자열을 설정\n",
        "vowels = 'aeiouAEIOU'\n",
        "\n",
        "# 각 단어의 모음 개수를 세고 출력\n",
        "for w in word:\n",
        "    vowel_count = sum(1 for letter in w if letter in vowels)\n",
        "    print(f\"{w}은 {', '.join([letter for letter in w if letter in vowels])}로 모음 {vowel_count}개\")\n"
      ]
    }
  ]
}