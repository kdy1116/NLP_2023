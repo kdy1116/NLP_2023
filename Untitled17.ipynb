{
  "nbformat": 4,
  "nbformat_minor": 0,
  "metadata": {
    "colab": {
      "provenance": [],
      "authorship_tag": "ABX9TyMBkfR0huFl1qvZbc67mGfB",
      "include_colab_link": true
    },
    "kernelspec": {
      "name": "python3",
      "display_name": "Python 3"
    },
    "language_info": {
      "name": "python"
    }
  },
  "cells": [
    {
      "cell_type": "markdown",
      "metadata": {
        "id": "view-in-github",
        "colab_type": "text"
      },
      "source": [
        "<a href=\"https://colab.research.google.com/github/kdy1116/NLP_2023/blob/main/Untitled17.ipynb\" target=\"_parent\"><img src=\"https://colab.research.google.com/assets/colab-badge.svg\" alt=\"Open In Colab\"/></a>"
      ]
    },
    {
      "cell_type": "code",
      "execution_count": 2,
      "metadata": {
        "colab": {
          "base_uri": "https://localhost:8080/"
        },
        "id": "uM7iCpM-Z6NX",
        "outputId": "b9e04fc0-731e-4233-d736-80599a15da11"
      },
      "outputs": [
        {
          "output_type": "stream",
          "name": "stdout",
          "text": [
            "달러의 액수를 적으십시오 : 27\n",
            "27 달러는 약 30473.0 원 입니다. \n"
          ]
        }
      ],
      "source": [
        "e = int (input ('달러의 액수를 적으십시오 : ') )\n",
        "w = e*1128.64*10//10\n",
        "print(e, '달러는 약', w, '원 입니다. ')"
      ]
    }
  ]
}