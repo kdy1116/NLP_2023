{
  "nbformat": 4,
  "nbformat_minor": 0,
  "metadata": {
    "colab": {
      "provenance": [],
      "authorship_tag": "ABX9TyNkDqL+45aKt0lTx593RU7T",
      "include_colab_link": true
    },
    "kernelspec": {
      "name": "python3",
      "display_name": "Python 3"
    },
    "language_info": {
      "name": "python"
    }
  },
  "cells": [
    {
      "cell_type": "markdown",
      "metadata": {
        "id": "view-in-github",
        "colab_type": "text"
      },
      "source": [
        "<a href=\"https://colab.research.google.com/github/kdy1116/NLP_2023/blob/main/Untitled55.ipynb\" target=\"_parent\"><img src=\"https://colab.research.google.com/assets/colab-badge.svg\" alt=\"Open In Colab\"/></a>"
      ]
    },
    {
      "cell_type": "code",
      "execution_count": null,
      "metadata": {
        "id": "bdPtgrcoldbJ"
      },
      "outputs": [],
      "source": [
        "[2, 3, 4, 5, 6, 7, 8, 9].forEach((i) => {\n",
        "   [1, 2, 3, 4, 5, 6, 7, 8, 9].forEach((j) => {\n",
        "     console.log(`${i} * ${j} = ${i * j}`);\n",
        "   });\n",
        "});"
      ]
    }
  ]
}