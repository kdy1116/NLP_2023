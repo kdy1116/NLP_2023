{
  "nbformat": 4,
  "nbformat_minor": 0,
  "metadata": {
    "colab": {
      "provenance": [],
      "authorship_tag": "ABX9TyOGEjn5lCJe6IxfULNUMHMM",
      "include_colab_link": true
    },
    "kernelspec": {
      "name": "python3",
      "display_name": "Python 3"
    },
    "language_info": {
      "name": "python"
    }
  },
  "cells": [
    {
      "cell_type": "markdown",
      "metadata": {
        "id": "view-in-github",
        "colab_type": "text"
      },
      "source": [
        "<a href=\"https://colab.research.google.com/github/kdy1116/NLP_2023/blob/main/Untitled43.ipynb\" target=\"_parent\"><img src=\"https://colab.research.google.com/assets/colab-badge.svg\" alt=\"Open In Colab\"/></a>"
      ]
    },
    {
      "cell_type": "code",
      "execution_count": null,
      "metadata": {
        "id": "3Shz6tTS2RX8"
      },
      "outputs": [],
      "source": [
        "void setup() {\n",
        "    PFont font = loadFont(\"myfont.vlw\");\n",
        "    textFont(font,20);\n",
        "}\n",
        "\n",
        "void draw() {\n",
        "    text(\"Hello, world!\", 30,50);\n",
        "}\n"
      ]
    }
  ]
}